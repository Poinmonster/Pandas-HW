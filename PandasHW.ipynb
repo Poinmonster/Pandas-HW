{
 "cells": [
  {
   "cell_type": "code",
   "execution_count": 306,
   "metadata": {},
   "outputs": [
    {
     "name": "stdout",
     "output_type": "stream",
     "text": [
      "Summary\n",
      "Number of players: 576\n",
      "Total Purchases: 780\n",
      "Number of Unique Items: 179\n",
      "Average Purchase Price: $3.05\n",
      "Total Revenue: $2379.77\n"
     ]
    }
   ],
   "source": [
    "print(f\"Summary\\nNumber of players: {num_players}\\nTotal Purchases: 780\\nNumber of Unique Items: {num_items}\\nAverage Purchase Price: $3.05\\nTotal Revenue: $2379.77\")"
   ]
  },
  {
   "cell_type": "code",
   "execution_count": 85,
   "metadata": {},
   "outputs": [
    {
     "data": {
      "text/html": [
       "<div>\n",
       "<style scoped>\n",
       "    .dataframe tbody tr th:only-of-type {\n",
       "        vertical-align: middle;\n",
       "    }\n",
       "\n",
       "    .dataframe tbody tr th {\n",
       "        vertical-align: top;\n",
       "    }\n",
       "\n",
       "    .dataframe thead th {\n",
       "        text-align: right;\n",
       "    }\n",
       "</style>\n",
       "<table border=\"1\" class=\"dataframe\">\n",
       "  <thead>\n",
       "    <tr style=\"text-align: right;\">\n",
       "      <th></th>\n",
       "      <th>Gender</th>\n",
       "      <th>Number</th>\n",
       "      <th>Percent</th>\n",
       "      <th>Total Spent</th>\n",
       "      <th>Average Spent per Person</th>\n",
       "      <th>Average Spent per Purchase</th>\n",
       "    </tr>\n",
       "  </thead>\n",
       "  <tbody>\n",
       "    <tr>\n",
       "      <th>0</th>\n",
       "      <td>Male</td>\n",
       "      <td>484</td>\n",
       "      <td>84.03%</td>\n",
       "      <td>$1967.64</td>\n",
       "      <td>$4.07</td>\n",
       "      <td>$3.02</td>\n",
       "    </tr>\n",
       "    <tr>\n",
       "      <th>1</th>\n",
       "      <td>Female</td>\n",
       "      <td>81</td>\n",
       "      <td>14.06%</td>\n",
       "      <td>$361.94</td>\n",
       "      <td>$4.47</td>\n",
       "      <td>$3.20</td>\n",
       "    </tr>\n",
       "    <tr>\n",
       "      <th>2</th>\n",
       "      <td>Other/Decline to State</td>\n",
       "      <td>11</td>\n",
       "      <td>1.91%</td>\n",
       "      <td>$50.19</td>\n",
       "      <td>$4.56</td>\n",
       "      <td>$3.35</td>\n",
       "    </tr>\n",
       "  </tbody>\n",
       "</table>\n",
       "</div>"
      ],
      "text/plain": [
       "                   Gender  Number Percent Total Spent  \\\n",
       "0                    Male     484  84.03%    $1967.64   \n",
       "1                  Female      81  14.06%     $361.94   \n",
       "2  Other/Decline to State      11   1.91%      $50.19   \n",
       "\n",
       "  Average Spent per Person Average Spent per Purchase  \n",
       "0                    $4.07                      $3.02  \n",
       "1                    $4.47                      $3.20  \n",
       "2                    $4.56                      $3.35  "
      ]
     },
     "execution_count": 85,
     "metadata": {},
     "output_type": "execute_result"
    }
   ],
   "source": [
    "gender_df"
   ]
  },
  {
   "cell_type": "code",
   "execution_count": 290,
   "metadata": {},
   "outputs": [
    {
     "data": {
      "text/html": [
       "<div>\n",
       "<style scoped>\n",
       "    .dataframe tbody tr th:only-of-type {\n",
       "        vertical-align: middle;\n",
       "    }\n",
       "\n",
       "    .dataframe tbody tr th {\n",
       "        vertical-align: top;\n",
       "    }\n",
       "\n",
       "    .dataframe thead th {\n",
       "        text-align: right;\n",
       "    }\n",
       "</style>\n",
       "<table border=\"1\" class=\"dataframe\">\n",
       "  <thead>\n",
       "    <tr style=\"text-align: right;\">\n",
       "      <th></th>\n",
       "      <th>Top Spenders</th>\n",
       "      <th>Amount Spent</th>\n",
       "      <th>Number of Purchases</th>\n",
       "      <th>Avg Spent per Purchase</th>\n",
       "    </tr>\n",
       "  </thead>\n",
       "  <tbody>\n",
       "    <tr>\n",
       "      <th>0</th>\n",
       "      <td>Lisosia93</td>\n",
       "      <td>$18.96</td>\n",
       "      <td>5</td>\n",
       "      <td>$3.79</td>\n",
       "    </tr>\n",
       "    <tr>\n",
       "      <th>1</th>\n",
       "      <td>Idastidru52</td>\n",
       "      <td>$15.45</td>\n",
       "      <td>4</td>\n",
       "      <td>$3.86</td>\n",
       "    </tr>\n",
       "    <tr>\n",
       "      <th>2</th>\n",
       "      <td>Chamjask73</td>\n",
       "      <td>$13.83</td>\n",
       "      <td>3</td>\n",
       "      <td>$4.61</td>\n",
       "    </tr>\n",
       "    <tr>\n",
       "      <th>3</th>\n",
       "      <td>Iral74</td>\n",
       "      <td>$13.62</td>\n",
       "      <td>4</td>\n",
       "      <td>$3.40</td>\n",
       "    </tr>\n",
       "    <tr>\n",
       "      <th>4</th>\n",
       "      <td>Iskadarya95</td>\n",
       "      <td>$13.10</td>\n",
       "      <td>3</td>\n",
       "      <td>$4.37</td>\n",
       "    </tr>\n",
       "  </tbody>\n",
       "</table>\n",
       "</div>"
      ],
      "text/plain": [
       "  Top Spenders Amount Spent  Number of Purchases Avg Spent per Purchase\n",
       "0    Lisosia93       $18.96                    5                  $3.79\n",
       "1  Idastidru52       $15.45                    4                  $3.86\n",
       "2   Chamjask73       $13.83                    3                  $4.61\n",
       "3       Iral74       $13.62                    4                  $3.40\n",
       "4  Iskadarya95       $13.10                    3                  $4.37"
      ]
     },
     "execution_count": 290,
     "metadata": {},
     "output_type": "execute_result"
    }
   ],
   "source": [
    "pd.DataFrame(buyers_df)"
   ]
  },
  {
   "cell_type": "code",
   "execution_count": 298,
   "metadata": {},
   "outputs": [
    {
     "data": {
      "text/html": [
       "<div>\n",
       "<style scoped>\n",
       "    .dataframe tbody tr th:only-of-type {\n",
       "        vertical-align: middle;\n",
       "    }\n",
       "\n",
       "    .dataframe tbody tr th {\n",
       "        vertical-align: top;\n",
       "    }\n",
       "\n",
       "    .dataframe thead th {\n",
       "        text-align: right;\n",
       "    }\n",
       "</style>\n",
       "<table border=\"1\" class=\"dataframe\">\n",
       "  <thead>\n",
       "    <tr style=\"text-align: right;\">\n",
       "      <th></th>\n",
       "      <th>Age Groups</th>\n",
       "      <th>Purchase Count</th>\n",
       "      <th>Player Count</th>\n",
       "      <th>Purchase Totals</th>\n",
       "      <th>Average Purchase</th>\n",
       "      <th>Average Purchase per Person</th>\n",
       "    </tr>\n",
       "  </thead>\n",
       "  <tbody>\n",
       "    <tr>\n",
       "      <th>0</th>\n",
       "      <td>&lt;10</td>\n",
       "      <td>23</td>\n",
       "      <td>17</td>\n",
       "      <td>$77.13</td>\n",
       "      <td>$3.35</td>\n",
       "      <td>$4.54</td>\n",
       "    </tr>\n",
       "    <tr>\n",
       "      <th>1</th>\n",
       "      <td>10-14</td>\n",
       "      <td>28</td>\n",
       "      <td>22</td>\n",
       "      <td>$82.78</td>\n",
       "      <td>$2.96</td>\n",
       "      <td>$3.76</td>\n",
       "    </tr>\n",
       "    <tr>\n",
       "      <th>2</th>\n",
       "      <td>15-19</td>\n",
       "      <td>136</td>\n",
       "      <td>107</td>\n",
       "      <td>$412.89</td>\n",
       "      <td>$3.04</td>\n",
       "      <td>$3.86</td>\n",
       "    </tr>\n",
       "    <tr>\n",
       "      <th>3</th>\n",
       "      <td>20-24</td>\n",
       "      <td>365</td>\n",
       "      <td>258</td>\n",
       "      <td>$1,114.06</td>\n",
       "      <td>$3.05</td>\n",
       "      <td>$4.32</td>\n",
       "    </tr>\n",
       "    <tr>\n",
       "      <th>4</th>\n",
       "      <td>25-29</td>\n",
       "      <td>101</td>\n",
       "      <td>77</td>\n",
       "      <td>$293.00</td>\n",
       "      <td>$2.90</td>\n",
       "      <td>$3.81</td>\n",
       "    </tr>\n",
       "    <tr>\n",
       "      <th>5</th>\n",
       "      <td>30-34</td>\n",
       "      <td>73</td>\n",
       "      <td>52</td>\n",
       "      <td>$214.00</td>\n",
       "      <td>$2.93</td>\n",
       "      <td>$4.12</td>\n",
       "    </tr>\n",
       "    <tr>\n",
       "      <th>6</th>\n",
       "      <td>35-39</td>\n",
       "      <td>41</td>\n",
       "      <td>31</td>\n",
       "      <td>$147.67</td>\n",
       "      <td>$3.60</td>\n",
       "      <td>$4.76</td>\n",
       "    </tr>\n",
       "    <tr>\n",
       "      <th>7</th>\n",
       "      <td>40-44</td>\n",
       "      <td>12</td>\n",
       "      <td>11</td>\n",
       "      <td>$36.54</td>\n",
       "      <td>$3.04</td>\n",
       "      <td>$3.32</td>\n",
       "    </tr>\n",
       "  </tbody>\n",
       "</table>\n",
       "</div>"
      ],
      "text/plain": [
       "  Age Groups  Purchase Count  Player Count Purchase Totals Average Purchase  \\\n",
       "0        <10              23            17          $77.13            $3.35   \n",
       "1      10-14              28            22          $82.78            $2.96   \n",
       "2      15-19             136           107         $412.89            $3.04   \n",
       "3      20-24             365           258       $1,114.06            $3.05   \n",
       "4      25-29             101            77         $293.00            $2.90   \n",
       "5      30-34              73            52         $214.00            $2.93   \n",
       "6      35-39              41            31         $147.67            $3.60   \n",
       "7      40-44              12            11          $36.54            $3.04   \n",
       "\n",
       "  Average Purchase per Person  \n",
       "0                       $4.54  \n",
       "1                       $3.76  \n",
       "2                       $3.86  \n",
       "3                       $4.32  \n",
       "4                       $3.81  \n",
       "5                       $4.12  \n",
       "6                       $4.76  \n",
       "7                       $3.32  "
      ]
     },
     "execution_count": 298,
     "metadata": {},
     "output_type": "execute_result"
    }
   ],
   "source": [
    "pd.DataFrame(age_df)"
   ]
  },
  {
   "cell_type": "code",
   "execution_count": 299,
   "metadata": {},
   "outputs": [
    {
     "data": {
      "text/html": [
       "<div>\n",
       "<style scoped>\n",
       "    .dataframe tbody tr th:only-of-type {\n",
       "        vertical-align: middle;\n",
       "    }\n",
       "\n",
       "    .dataframe tbody tr th {\n",
       "        vertical-align: top;\n",
       "    }\n",
       "\n",
       "    .dataframe thead th {\n",
       "        text-align: right;\n",
       "    }\n",
       "</style>\n",
       "<table border=\"1\" class=\"dataframe\">\n",
       "  <thead>\n",
       "    <tr style=\"text-align: right;\">\n",
       "      <th></th>\n",
       "      <th>Item</th>\n",
       "      <th>Number of Purchases</th>\n",
       "      <th>Price</th>\n",
       "      <th>Total Spent</th>\n",
       "      <th>Item ID</th>\n",
       "    </tr>\n",
       "  </thead>\n",
       "  <tbody>\n",
       "    <tr>\n",
       "      <th>0</th>\n",
       "      <td>Final Critic</td>\n",
       "      <td>13</td>\n",
       "      <td>$4.88</td>\n",
       "      <td>$63.44</td>\n",
       "      <td>92</td>\n",
       "    </tr>\n",
       "    <tr>\n",
       "      <th>1</th>\n",
       "      <td>Oathbreaker, Last Hope of the Breaking Storm</td>\n",
       "      <td>12</td>\n",
       "      <td>$4.23</td>\n",
       "      <td>$50.76</td>\n",
       "      <td>178</td>\n",
       "    </tr>\n",
       "    <tr>\n",
       "      <th>2</th>\n",
       "      <td>Persuasion</td>\n",
       "      <td>9</td>\n",
       "      <td>$3.19</td>\n",
       "      <td>$28.71</td>\n",
       "      <td>141</td>\n",
       "    </tr>\n",
       "    <tr>\n",
       "      <th>3</th>\n",
       "      <td>Nirvana</td>\n",
       "      <td>9</td>\n",
       "      <td>$4.90</td>\n",
       "      <td>$44.10</td>\n",
       "      <td>82</td>\n",
       "    </tr>\n",
       "    <tr>\n",
       "      <th>4</th>\n",
       "      <td>Extraction, Quickblade Of Trembling Hands</td>\n",
       "      <td>9</td>\n",
       "      <td>$3.53</td>\n",
       "      <td>$31.77</td>\n",
       "      <td>108</td>\n",
       "    </tr>\n",
       "  </tbody>\n",
       "</table>\n",
       "</div>"
      ],
      "text/plain": [
       "                                           Item  Number of Purchases  Price  \\\n",
       "0                                  Final Critic                   13  $4.88   \n",
       "1  Oathbreaker, Last Hope of the Breaking Storm                   12  $4.23   \n",
       "2                                    Persuasion                    9  $3.19   \n",
       "3                                       Nirvana                    9  $4.90   \n",
       "4     Extraction, Quickblade Of Trembling Hands                    9  $3.53   \n",
       "\n",
       "  Total Spent  Item ID  \n",
       "0      $63.44       92  \n",
       "1      $50.76      178  \n",
       "2      $28.71      141  \n",
       "3      $44.10       82  \n",
       "4      $31.77      108  "
      ]
     },
     "execution_count": 299,
     "metadata": {},
     "output_type": "execute_result"
    }
   ],
   "source": [
    "pop_items_df\n",
    "#These are the most popular items"
   ]
  },
  {
   "cell_type": "code",
   "execution_count": 300,
   "metadata": {},
   "outputs": [
    {
     "data": {
      "text/html": [
       "<div>\n",
       "<style scoped>\n",
       "    .dataframe tbody tr th:only-of-type {\n",
       "        vertical-align: middle;\n",
       "    }\n",
       "\n",
       "    .dataframe tbody tr th {\n",
       "        vertical-align: top;\n",
       "    }\n",
       "\n",
       "    .dataframe thead th {\n",
       "        text-align: right;\n",
       "    }\n",
       "</style>\n",
       "<table border=\"1\" class=\"dataframe\">\n",
       "  <thead>\n",
       "    <tr style=\"text-align: right;\">\n",
       "      <th></th>\n",
       "      <th>Item</th>\n",
       "      <th>Purchase Count</th>\n",
       "      <th>Purchase Total</th>\n",
       "      <th>Price</th>\n",
       "      <th>Item ID</th>\n",
       "    </tr>\n",
       "  </thead>\n",
       "  <tbody>\n",
       "    <tr>\n",
       "      <th>0</th>\n",
       "      <td>Final Critic</td>\n",
       "      <td>13</td>\n",
       "      <td>$59.99</td>\n",
       "      <td>$4.61</td>\n",
       "      <td>95</td>\n",
       "    </tr>\n",
       "    <tr>\n",
       "      <th>1</th>\n",
       "      <td>Oathbreaker, Last Hope of the Breaking Storm</td>\n",
       "      <td>12</td>\n",
       "      <td>$50.76</td>\n",
       "      <td>$4.23</td>\n",
       "      <td>178</td>\n",
       "    </tr>\n",
       "    <tr>\n",
       "      <th>2</th>\n",
       "      <td>Nirvana</td>\n",
       "      <td>9</td>\n",
       "      <td>$44.10</td>\n",
       "      <td>$4.90</td>\n",
       "      <td>82</td>\n",
       "    </tr>\n",
       "    <tr>\n",
       "      <th>3</th>\n",
       "      <td>Fiery Glass Crusader</td>\n",
       "      <td>9</td>\n",
       "      <td>$41.22</td>\n",
       "      <td>$4.58</td>\n",
       "      <td>145</td>\n",
       "    </tr>\n",
       "    <tr>\n",
       "      <th>4</th>\n",
       "      <td>Singed Scalpel</td>\n",
       "      <td>8</td>\n",
       "      <td>$34.80</td>\n",
       "      <td>$4.35</td>\n",
       "      <td>103</td>\n",
       "    </tr>\n",
       "  </tbody>\n",
       "</table>\n",
       "</div>"
      ],
      "text/plain": [
       "                                           Item  Purchase Count  \\\n",
       "0                                  Final Critic              13   \n",
       "1  Oathbreaker, Last Hope of the Breaking Storm              12   \n",
       "2                                       Nirvana               9   \n",
       "3                          Fiery Glass Crusader               9   \n",
       "4                                Singed Scalpel               8   \n",
       "\n",
       "  Purchase Total  Price  Item ID  \n",
       "0         $59.99  $4.61       95  \n",
       "1         $50.76  $4.23      178  \n",
       "2         $44.10  $4.90       82  \n",
       "3         $41.22  $4.58      145  \n",
       "4         $34.80  $4.35      103  "
      ]
     },
     "execution_count": 300,
     "metadata": {},
     "output_type": "execute_result"
    }
   ],
   "source": [
    "profitable_items\n",
    "#These are the most profitable items"
   ]
  },
  {
   "cell_type": "code",
   "execution_count": null,
   "metadata": {},
   "outputs": [],
   "source": [
    "\"\"\"\n",
    "Three Conclusions\n",
    "1. No item or set of items dominates. The purchases are spread out over a wide variety of items.\n",
    "2. Women are only about one seventh of the playing population, but on average they spend slightly more than men.\n",
    "3. The game has very fewer players over 40. There is no particular relationship between age and average spend.\n",
    "\n",
    "\"\"\""
   ]
  },
  {
   "cell_type": "code",
   "execution_count": null,
   "metadata": {},
   "outputs": [],
   "source": []
  },
  {
   "cell_type": "code",
   "execution_count": null,
   "metadata": {},
   "outputs": [],
   "source": []
  },
  {
   "cell_type": "code",
   "execution_count": 1,
   "metadata": {},
   "outputs": [],
   "source": [
    "%matplotlib notebook"
   ]
  },
  {
   "cell_type": "code",
   "execution_count": null,
   "metadata": {},
   "outputs": [],
   "source": []
  },
  {
   "cell_type": "code",
   "execution_count": 2,
   "metadata": {},
   "outputs": [],
   "source": [
    "import pandas as pd\n",
    "import numpy as np\n",
    "import matplotlib.pyplot as plt"
   ]
  },
  {
   "cell_type": "code",
   "execution_count": 3,
   "metadata": {},
   "outputs": [
    {
     "data": {
      "text/plain": [
       "'/Users/owenpoindexter'"
      ]
     },
     "execution_count": 3,
     "metadata": {},
     "output_type": "execute_result"
    }
   ],
   "source": [
    "pwd"
   ]
  },
  {
   "cell_type": "code",
   "execution_count": 4,
   "metadata": {},
   "outputs": [
    {
     "name": "stdout",
     "output_type": "stream",
     "text": [
      "/Users/owenpoindexter\n"
     ]
    }
   ],
   "source": [
    "cd ~"
   ]
  },
  {
   "cell_type": "code",
   "execution_count": 5,
   "metadata": {},
   "outputs": [
    {
     "name": "stdout",
     "output_type": "stream",
     "text": [
      "/Users/owenpoindexter/Desktop\n"
     ]
    }
   ],
   "source": [
    "cd Desktop"
   ]
  },
  {
   "cell_type": "code",
   "execution_count": 6,
   "metadata": {},
   "outputs": [
    {
     "name": "stdout",
     "output_type": "stream",
     "text": [
      "Give-Directly.png\r\n",
      "\u001b[34mPythonStuff\u001b[m\u001b[m/\r\n",
      "Sam-Dyson-2018-sinkers.png\r\n",
      "Screen Shot 2018-09-13 at 4.46.37 PM.png\r\n",
      "Screen Shot 2018-11-13 at 9.32.07 AM.png\r\n",
      "Screen Shot 2018-12-01 at 5.20.24 PM.png\r\n",
      "Untitled.ipynb\r\n",
      "\u001b[34mWeek-04-Pandas\u001b[m\u001b[m/\r\n",
      "\u001b[30m\u001b[43mbasement noise\u001b[m\u001b[m/\r\n",
      "my-example.py\r\n",
      "myfirstnotebook.ipynb\r\n",
      "\u001b[30m\u001b[43mo-tunes\u001b[m\u001b[m/\r\n",
      "\u001b[34mpython-challenge\u001b[m\u001b[m/\r\n"
     ]
    }
   ],
   "source": [
    "ls"
   ]
  },
  {
   "cell_type": "code",
   "execution_count": 7,
   "metadata": {},
   "outputs": [
    {
     "name": "stdout",
     "output_type": "stream",
     "text": [
      "/Users/owenpoindexter/Desktop/Week-04-Pandas\n"
     ]
    }
   ],
   "source": [
    "cd Week-04-Pandas/"
   ]
  },
  {
   "cell_type": "code",
   "execution_count": 8,
   "metadata": {},
   "outputs": [
    {
     "name": "stdout",
     "output_type": "stream",
     "text": [
      "\u001b[31mDay-01-Pandas.ipynb\u001b[m\u001b[m* HeroesOfPymoli.csv   Untitled.ipynb\r\n",
      "\u001b[31mDay-02-Pandas.ipynb\u001b[m\u001b[m* \u001b[34mOutput\u001b[m\u001b[m/              Untitled1.ipynb\r\n",
      "\u001b[31mDay-03-Pandas.ipynb\u001b[m\u001b[m* \u001b[34mResources\u001b[m\u001b[m/\r\n"
     ]
    }
   ],
   "source": [
    "ls"
   ]
  },
  {
   "cell_type": "code",
   "execution_count": 9,
   "metadata": {},
   "outputs": [],
   "source": [
    "csvpath = \"./HeroesOfPymoli.csv\""
   ]
  },
  {
   "cell_type": "code",
   "execution_count": 10,
   "metadata": {},
   "outputs": [],
   "source": [
    "game_data = pd.read_csv(csvpath)\n",
    "game_df = pd.DataFrame(game_data)"
   ]
  },
  {
   "cell_type": "code",
   "execution_count": 11,
   "metadata": {},
   "outputs": [
    {
     "data": {
      "text/plain": [
       "Purchase ID    780\n",
       "SN             780\n",
       "Age            780\n",
       "Gender         780\n",
       "Item ID        780\n",
       "Item Name      780\n",
       "Price          780\n",
       "dtype: int64"
      ]
     },
     "execution_count": 11,
     "metadata": {},
     "output_type": "execute_result"
    }
   ],
   "source": [
    "game_df[\"Price\"] = pd.to_numeric(game_df['Price'])\n",
    "#game_df[\"Price\"] = '${:,.2f}'.format(game_df[\"Price\"])\n",
    "\n",
    "#game_df.astype(int64, errors='ignore')\n",
    "game_df.count()"
   ]
  },
  {
   "cell_type": "code",
   "execution_count": 12,
   "metadata": {},
   "outputs": [
    {
     "data": {
      "text/plain": [
       "Purchase ID      int64\n",
       "SN              object\n",
       "Age              int64\n",
       "Gender          object\n",
       "Item ID          int64\n",
       "Item Name       object\n",
       "Price          float64\n",
       "dtype: object"
      ]
     },
     "execution_count": 12,
     "metadata": {},
     "output_type": "execute_result"
    }
   ],
   "source": [
    "game_df.dtypes"
   ]
  },
  {
   "cell_type": "code",
   "execution_count": null,
   "metadata": {},
   "outputs": [],
   "source": []
  },
  {
   "cell_type": "code",
   "execution_count": 13,
   "metadata": {},
   "outputs": [],
   "source": [
    "all_players = game_df[\"SN\"].unique()\n",
    "num_players = len(all_players)\n",
    "num_players\n",
    "game_by_gender = game_df.groupby([\"Gender\"])\n",
    "gender_mean = game_by_gender.mean()\n",
    "\n",
    "gender_total_purchases = game_by_gender[\"Price\"].sum()\n",
    "gender_count = game_by_gender.count()\n",
    "player_gender = game_by_gender[\"SN\"].unique()\n",
    "num_women = len(player_gender[\"Female\"])\n",
    "num_men = len(player_gender[\"Male\"])\n",
    "num_other = len(player_gender[\"Other / Non-Disclosed\"])\n",
    "perc_men = num_men / num_players \n",
    "perc_women = num_women / num_players \n",
    "perc_other = num_other / num_players"
   ]
  },
  {
   "cell_type": "code",
   "execution_count": 14,
   "metadata": {},
   "outputs": [
    {
     "data": {
      "text/plain": [
       "4.4683950617283905"
      ]
     },
     "execution_count": 14,
     "metadata": {},
     "output_type": "execute_result"
    }
   ],
   "source": [
    "(gender_total_purchases[\"Female\"] / num_women)\n"
   ]
  },
  {
   "cell_type": "code",
   "execution_count": 15,
   "metadata": {},
   "outputs": [
    {
     "data": {
      "text/plain": [
       "Gender\n",
       "Female                    361.94\n",
       "Male                     1967.64\n",
       "Other / Non-Disclosed      50.19\n",
       "Name: Price, dtype: float64"
      ]
     },
     "execution_count": 15,
     "metadata": {},
     "output_type": "execute_result"
    }
   ],
   "source": [
    "gender_total_purchases.astype(float)"
   ]
  },
  {
   "cell_type": "code",
   "execution_count": 16,
   "metadata": {},
   "outputs": [
    {
     "name": "stdout",
     "output_type": "stream",
     "text": [
      "484 81 11\n"
     ]
    }
   ],
   "source": [
    "print(num_men, num_women, num_other)"
   ]
  },
  {
   "cell_type": "code",
   "execution_count": 81,
   "metadata": {},
   "outputs": [],
   "source": [
    "avg_female_purchase_price = gender_mean[\"Price\"][\"Female\"]\n",
    "avg_male_purchase_price = gender_mean[\"Price\"][\"Male\"]\n",
    "avg_other_purchase_price = gender_mean[\"Price\"][\"Other / Non-Disclosed\"]\n",
    "total_female_spent = gender_total_purchases[\"Female\"]\n",
    "total_male_spent = gender_total_purchases[\"Male\"]\n",
    "total_other_spent = gender_total_purchases[\"Other / Non-Disclosed\"]\n",
    "avg_female_purchase = total_female_spent / num_women\n",
    "avg_male_purchase = total_male_spent / num_men\n",
    "avg_other_purchase = total_other_spent / num_other\n",
    "total_men_spent = \"${:.2f}\".format(total_male_spent)\n",
    "total_women_spent = \"${:.2f}\".format(total_female_spent)\n",
    "total_other_spent_d = \"${:.2f}\".format(total_other_spent)\n",
    "avg_woman_purchase_price = \"${:.2f}\".format(avg_female_purchase_price)\n",
    "avg_man_purchase_price = \"${:.2f}\".format(avg_male_purchase_price)\n",
    "avg_other_purchase_price_d = \"${:.2f}\".format(avg_other_purchase_price)\n",
    "avg_man_purchase = \"${:.2f}\".format(avg_male_purchase)\n",
    "avg_woman_purchase = \"${:.2f}\".format(avg_female_purchase)\n",
    "avg_other_purchase_d = \"${:.2f}\".format(avg_other_purchase)"
   ]
  },
  {
   "cell_type": "code",
   "execution_count": 84,
   "metadata": {},
   "outputs": [
    {
     "data": {
      "text/html": [
       "<div>\n",
       "<style scoped>\n",
       "    .dataframe tbody tr th:only-of-type {\n",
       "        vertical-align: middle;\n",
       "    }\n",
       "\n",
       "    .dataframe tbody tr th {\n",
       "        vertical-align: top;\n",
       "    }\n",
       "\n",
       "    .dataframe thead th {\n",
       "        text-align: right;\n",
       "    }\n",
       "</style>\n",
       "<table border=\"1\" class=\"dataframe\">\n",
       "  <thead>\n",
       "    <tr style=\"text-align: right;\">\n",
       "      <th></th>\n",
       "      <th>Gender</th>\n",
       "      <th>Number</th>\n",
       "      <th>Percent</th>\n",
       "      <th>Total Spent</th>\n",
       "      <th>Average Spent per Person</th>\n",
       "      <th>Average Spent per Purchase</th>\n",
       "    </tr>\n",
       "  </thead>\n",
       "  <tbody>\n",
       "    <tr>\n",
       "      <th>0</th>\n",
       "      <td>Male</td>\n",
       "      <td>484</td>\n",
       "      <td>84.03%</td>\n",
       "      <td>$1967.64</td>\n",
       "      <td>$4.07</td>\n",
       "      <td>$3.02</td>\n",
       "    </tr>\n",
       "    <tr>\n",
       "      <th>1</th>\n",
       "      <td>Female</td>\n",
       "      <td>81</td>\n",
       "      <td>14.06%</td>\n",
       "      <td>$361.94</td>\n",
       "      <td>$4.47</td>\n",
       "      <td>$3.20</td>\n",
       "    </tr>\n",
       "    <tr>\n",
       "      <th>2</th>\n",
       "      <td>Other/Decline to State</td>\n",
       "      <td>11</td>\n",
       "      <td>1.91%</td>\n",
       "      <td>$50.19</td>\n",
       "      <td>$4.56</td>\n",
       "      <td>$3.35</td>\n",
       "    </tr>\n",
       "  </tbody>\n",
       "</table>\n",
       "</div>"
      ],
      "text/plain": [
       "                   Gender  Number Percent Total Spent  \\\n",
       "0                    Male     484  84.03%    $1967.64   \n",
       "1                  Female      81  14.06%     $361.94   \n",
       "2  Other/Decline to State      11   1.91%      $50.19   \n",
       "\n",
       "  Average Spent per Person Average Spent per Purchase  \n",
       "0                    $4.07                      $3.02  \n",
       "1                    $4.47                      $3.20  \n",
       "2                    $4.56                      $3.35  "
      ]
     },
     "execution_count": 84,
     "metadata": {},
     "output_type": "execute_result"
    }
   ],
   "source": [
    "gender_df = pd.DataFrame(\n",
    "{\n",
    "    \"Gender\" : [\"Male\", \"Female\", \"Other/Decline to State\"],\n",
    "    \"Number\" : [num_men, num_women, num_other],\n",
    "    \"Percent\" : [perc_men, perc_women, perc_other],\n",
    "    \"Total Spent\" : [total_men_spent, total_women_spent, total_other_spent_d],\n",
    "    \"Average Spent per Person\" : [avg_man_purchase, avg_woman_purchase, avg_other_purchase_d],\n",
    "    \"Average Spent per Purchase\" : [avg_man_purchase_price, avg_woman_purchase_price, avg_other_purchase_price_d]\n",
    "})\n",
    "gender_df"
   ]
  },
  {
   "cell_type": "code",
   "execution_count": 83,
   "metadata": {},
   "outputs": [
    {
     "data": {
      "text/plain": [
       "Lisosia93        5\n",
       "Idastidru52      4\n",
       "Iral74           4\n",
       "Inguron55        3\n",
       "Yathecal82       3\n",
       "Tyidaim51        3\n",
       "Strithenu87      3\n",
       "Idai61           3\n",
       "Saedaiphos46     3\n",
       "Aelin32          3\n",
       "Chamjask73       3\n",
       "Ilarin91         3\n",
       "Iskadarya95      3\n",
       "Chadolyla44      3\n",
       "Aina42           3\n",
       "Saistyphos30     3\n",
       "Sondastsda82     3\n",
       "Chanastnya43     3\n",
       "Ialallo29        3\n",
       "Iri67            3\n",
       "Rarallo90        3\n",
       "Chamimla85       3\n",
       "Pheodaisun84     3\n",
       "Raesty92         3\n",
       "Lisim78          3\n",
       "Phyali88         3\n",
       "Asur53           3\n",
       "Siallylis44      3\n",
       "Phaena87         3\n",
       "Hiaral50         3\n",
       "                ..\n",
       "Sundim98         1\n",
       "Chanirra64       1\n",
       "Ethrasyon38      1\n",
       "Eyista89         1\n",
       "Ilaesudil92      1\n",
       "Mindadaran26     1\n",
       "Undassa89        1\n",
       "Aisur51          1\n",
       "Mindilsa34       1\n",
       "Firon67          1\n",
       "Quanrion96       1\n",
       "Undosia27        1\n",
       "Eurisuru25       1\n",
       "Frichynde86      1\n",
       "Indirrian56      1\n",
       "Ililsasya43      1\n",
       "Meosridil82      1\n",
       "Irithlis29       1\n",
       "Aeral97          1\n",
       "Haestyphos66     1\n",
       "Tyeuduen32       1\n",
       "Qilatista90      1\n",
       "Frichjaskan98    1\n",
       "Eustyria89       1\n",
       "Iarallo65        1\n",
       "Chamadar79       1\n",
       "Pheutherin27     1\n",
       "Sundadarla27     1\n",
       "Frichjask31      1\n",
       "Thrientossa55    1\n",
       "Name: SN, Length: 576, dtype: int64"
      ]
     },
     "execution_count": 83,
     "metadata": {},
     "output_type": "execute_result"
    }
   ],
   "source": [
    "game_data[\"SN\"].value_counts()"
   ]
  },
  {
   "cell_type": "code",
   "execution_count": null,
   "metadata": {},
   "outputs": [],
   "source": []
  },
  {
   "cell_type": "code",
   "execution_count": null,
   "metadata": {},
   "outputs": [],
   "source": []
  },
  {
   "cell_type": "code",
   "execution_count": 20,
   "metadata": {},
   "outputs": [
    {
     "data": {
      "text/plain": [
       "179"
      ]
     },
     "execution_count": 20,
     "metadata": {},
     "output_type": "execute_result"
    }
   ],
   "source": [
    "num_items = len(game_data[\"Item Name\"].unique())\n",
    "num_items"
   ]
  },
  {
   "cell_type": "code",
   "execution_count": 21,
   "metadata": {},
   "outputs": [],
   "source": [
    "gender_counts = game_data[\"Gender\"].value_counts()"
   ]
  },
  {
   "cell_type": "code",
   "execution_count": 22,
   "metadata": {},
   "outputs": [
    {
     "data": {
      "text/plain": [
       "Male                     652\n",
       "Female                   113\n",
       "Other / Non-Disclosed     15\n",
       "Name: Gender, dtype: int64"
      ]
     },
     "execution_count": 22,
     "metadata": {},
     "output_type": "execute_result"
    }
   ],
   "source": [
    "gender_counts"
   ]
  },
  {
   "cell_type": "code",
   "execution_count": 23,
   "metadata": {},
   "outputs": [],
   "source": [
    "unique_item_IDs = game_data[\"Item ID\"].unique()"
   ]
  },
  {
   "cell_type": "code",
   "execution_count": 24,
   "metadata": {},
   "outputs": [
    {
     "data": {
      "text/plain": [
       "183"
      ]
     },
     "execution_count": 24,
     "metadata": {},
     "output_type": "execute_result"
    }
   ],
   "source": [
    "num_items_bought = len(unique_item_IDs)\n",
    "num_items_bought"
   ]
  },
  {
   "cell_type": "code",
   "execution_count": 25,
   "metadata": {},
   "outputs": [
    {
     "data": {
      "text/html": [
       "<div>\n",
       "<style scoped>\n",
       "    .dataframe tbody tr th:only-of-type {\n",
       "        vertical-align: middle;\n",
       "    }\n",
       "\n",
       "    .dataframe tbody tr th {\n",
       "        vertical-align: top;\n",
       "    }\n",
       "\n",
       "    .dataframe thead th {\n",
       "        text-align: right;\n",
       "    }\n",
       "</style>\n",
       "<table border=\"1\" class=\"dataframe\">\n",
       "  <thead>\n",
       "    <tr style=\"text-align: right;\">\n",
       "      <th></th>\n",
       "      <th>Purchase ID</th>\n",
       "      <th>SN</th>\n",
       "      <th>Age</th>\n",
       "      <th>Gender</th>\n",
       "      <th>Item ID</th>\n",
       "      <th>Item Name</th>\n",
       "      <th>Price</th>\n",
       "    </tr>\n",
       "  </thead>\n",
       "  <tbody>\n",
       "    <tr>\n",
       "      <th>0</th>\n",
       "      <td>0</td>\n",
       "      <td>Lisim78</td>\n",
       "      <td>20</td>\n",
       "      <td>Male</td>\n",
       "      <td>108</td>\n",
       "      <td>Extraction, Quickblade Of Trembling Hands</td>\n",
       "      <td>3.53</td>\n",
       "    </tr>\n",
       "    <tr>\n",
       "      <th>1</th>\n",
       "      <td>1</td>\n",
       "      <td>Lisovynya38</td>\n",
       "      <td>40</td>\n",
       "      <td>Male</td>\n",
       "      <td>143</td>\n",
       "      <td>Frenzied Scimitar</td>\n",
       "      <td>1.56</td>\n",
       "    </tr>\n",
       "    <tr>\n",
       "      <th>2</th>\n",
       "      <td>2</td>\n",
       "      <td>Ithergue48</td>\n",
       "      <td>24</td>\n",
       "      <td>Male</td>\n",
       "      <td>92</td>\n",
       "      <td>Final Critic</td>\n",
       "      <td>4.88</td>\n",
       "    </tr>\n",
       "    <tr>\n",
       "      <th>3</th>\n",
       "      <td>3</td>\n",
       "      <td>Chamassasya86</td>\n",
       "      <td>24</td>\n",
       "      <td>Male</td>\n",
       "      <td>100</td>\n",
       "      <td>Blindscythe</td>\n",
       "      <td>3.27</td>\n",
       "    </tr>\n",
       "    <tr>\n",
       "      <th>4</th>\n",
       "      <td>4</td>\n",
       "      <td>Iskosia90</td>\n",
       "      <td>23</td>\n",
       "      <td>Male</td>\n",
       "      <td>131</td>\n",
       "      <td>Fury</td>\n",
       "      <td>1.44</td>\n",
       "    </tr>\n",
       "  </tbody>\n",
       "</table>\n",
       "</div>"
      ],
      "text/plain": [
       "   Purchase ID             SN  Age Gender  Item ID  \\\n",
       "0            0        Lisim78   20   Male      108   \n",
       "1            1    Lisovynya38   40   Male      143   \n",
       "2            2     Ithergue48   24   Male       92   \n",
       "3            3  Chamassasya86   24   Male      100   \n",
       "4            4      Iskosia90   23   Male      131   \n",
       "\n",
       "                                   Item Name  Price  \n",
       "0  Extraction, Quickblade Of Trembling Hands   3.53  \n",
       "1                          Frenzied Scimitar   1.56  \n",
       "2                               Final Critic   4.88  \n",
       "3                                Blindscythe   3.27  \n",
       "4                                       Fury   1.44  "
      ]
     },
     "execution_count": 25,
     "metadata": {},
     "output_type": "execute_result"
    }
   ],
   "source": [
    "avg_purchase_price = game_data[\"Price\"].mean()\n",
    "#avg_purchase_price(\"${:.2f}\".format)\n",
    "game_data.head()"
   ]
  },
  {
   "cell_type": "code",
   "execution_count": 26,
   "metadata": {},
   "outputs": [],
   "source": [
    "num_purchases = len(game_data[\"Item ID\"])\n",
    "bins = [0,9, 14,19,24,29,34,39,44]\n",
    "labels = [\"<10\", \"10-14\", \"15-19\", \"20-24\", \"25-29\", \"30-34\", \"35-39\", \"40-44\"]\n",
    "\n",
    "game_data[\"Age Groups\"] = pd.cut(game_data[\"Age\"], bins, labels=labels)\n",
    "age_data = game_data.groupby([\"Age Groups\"])\n",
    "age_purchase_count = age_data[\"Purchase ID\"].count()\n",
    "age_purchase_average = age_data[\"Price\"].mean()\n",
    "age_purchase_sum = age_data[\"Price\"].sum()\n",
    "age_purchase_person_average = age_purchase_sum / age_purchase_count\n",
    "player_age_count = []\n",
    "for label in labels:\n",
    "    player_age_count.append((len(age_data[\"SN\"].unique()[label])))\n",
    "age_avg_person_purchase = age_purchase_sum / player_age_count"
   ]
  },
  {
   "cell_type": "code",
   "execution_count": 27,
   "metadata": {},
   "outputs": [
    {
     "ename": "NameError",
     "evalue": "name 'age_dollar_sum' is not defined",
     "output_type": "error",
     "traceback": [
      "\u001b[0;31m---------------------------------------------------------------------------\u001b[0m",
      "\u001b[0;31mNameError\u001b[0m                                 Traceback (most recent call last)",
      "\u001b[0;32m<ipython-input-27-3de20b6d5461>\u001b[0m in \u001b[0;36m<module>\u001b[0;34m()\u001b[0m\n\u001b[1;32m      3\u001b[0m     \u001b[0;34m\"Purchase Count\"\u001b[0m \u001b[0;34m:\u001b[0m \u001b[0mlist\u001b[0m\u001b[0;34m(\u001b[0m\u001b[0mage_purchase_count\u001b[0m\u001b[0;34m)\u001b[0m\u001b[0;34m,\u001b[0m\u001b[0;34m\u001b[0m\u001b[0m\n\u001b[1;32m      4\u001b[0m     \u001b[0;34m\"Player Count\"\u001b[0m \u001b[0;34m:\u001b[0m \u001b[0mplayer_age_count\u001b[0m\u001b[0;34m,\u001b[0m\u001b[0;34m\u001b[0m\u001b[0m\n\u001b[0;32m----> 5\u001b[0;31m     \u001b[0;34m\"Purchase Totals\"\u001b[0m \u001b[0;34m:\u001b[0m \u001b[0mage_dollar_sum\u001b[0m\u001b[0;34m,\u001b[0m\u001b[0;34m\u001b[0m\u001b[0m\n\u001b[0m\u001b[1;32m      6\u001b[0m     \u001b[0;34m\"Average Purchase\"\u001b[0m \u001b[0;34m:\u001b[0m \u001b[0mage_dollar_average\u001b[0m\u001b[0;34m,\u001b[0m\u001b[0;34m\u001b[0m\u001b[0m\n\u001b[1;32m      7\u001b[0m     \u001b[0;34m\"Average Purchase per Person\"\u001b[0m \u001b[0;34m:\u001b[0m \u001b[0mage_avg_person_dollar\u001b[0m\u001b[0;34m\u001b[0m\u001b[0m\n",
      "\u001b[0;31mNameError\u001b[0m: name 'age_dollar_sum' is not defined"
     ]
    }
   ],
   "source": [
    "age_df = {\n",
    "    \"Age Groups\" : list(labels),\n",
    "    \"Purchase Count\" : list(age_purchase_count),\n",
    "    \"Player Count\" : player_age_count,\n",
    "    \"Purchase Totals\" : age_dollar_sum,\n",
    "    \"Average Purchase\" : age_dollar_average,\n",
    "    \"Average Purchase per Person\" : age_avg_person_dollar\n",
    "    \n",
    "}\n",
    "pd.DataFrame(age_df)"
   ]
  },
  {
   "cell_type": "code",
   "execution_count": null,
   "metadata": {},
   "outputs": [],
   "source": [
    "age_dollar_sum = []\n",
    "for money in age_purchase_sum:\n",
    "    age_dollar_sum.append('${:,.2f}'.format(money))"
   ]
  },
  {
   "cell_type": "code",
   "execution_count": 28,
   "metadata": {},
   "outputs": [],
   "source": [
    "age_dollar_average = []\n",
    "for money in age_purchase_average:\n",
    "    age_dollar_average.append('${:,.2f}'.format(money))"
   ]
  },
  {
   "cell_type": "code",
   "execution_count": 29,
   "metadata": {},
   "outputs": [],
   "source": [
    "age_avg_person_dollar = []\n",
    "for money in age_avg_person_purchase:\n",
    "    age_avg_person_dollar.append('${:,.2f}'.format(money))"
   ]
  },
  {
   "cell_type": "code",
   "execution_count": 30,
   "metadata": {},
   "outputs": [],
   "source": [
    "total_revenue = game_data[\"Price\"].sum()"
   ]
  },
  {
   "cell_type": "code",
   "execution_count": 31,
   "metadata": {},
   "outputs": [],
   "source": [
    "game_data_players = game_data.groupby([\"SN\"])\n",
    "top_buyers_df = game_data_players[\"SN\", \"Price\"].sum().sort_values(\"Price\", ascending=False)[0:5]\n",
    "top_buyers_spent = list(top_buyers_df.iloc[:,0])\n",
    "top_buyers = list(top_buyers_df.index.values)\n",
    "top_buyers_spent_dollars = []\n",
    "for i in top_buyers_spent:\n",
    "    top_buyers_spent_dollars.append('${:,.2f}'.format(i))"
   ]
  },
  {
   "cell_type": "code",
   "execution_count": 32,
   "metadata": {},
   "outputs": [],
   "source": [
    "name_dict = dict(game_data[\"SN\"].value_counts())\n",
    "top_buyers_purchases = []\n",
    "for name in top_buyers:\n",
    "    top_buyers_purchases.append(name_dict[name])\n",
    "top_buyers_purchases\n",
    "top_avg_price = []\n",
    "for i in range (0,len(top_buyers_spent)):\n",
    "    top_avg_price.append('${:,.2f}'.format( top_buyers_spent[i] / top_buyers_purchases[i]))\n"
   ]
  },
  {
   "cell_type": "code",
   "execution_count": 33,
   "metadata": {},
   "outputs": [
    {
     "data": {
      "text/html": [
       "<div>\n",
       "<style scoped>\n",
       "    .dataframe tbody tr th:only-of-type {\n",
       "        vertical-align: middle;\n",
       "    }\n",
       "\n",
       "    .dataframe tbody tr th {\n",
       "        vertical-align: top;\n",
       "    }\n",
       "\n",
       "    .dataframe thead th {\n",
       "        text-align: right;\n",
       "    }\n",
       "</style>\n",
       "<table border=\"1\" class=\"dataframe\">\n",
       "  <thead>\n",
       "    <tr style=\"text-align: right;\">\n",
       "      <th></th>\n",
       "      <th>Top Spenders</th>\n",
       "      <th>Amount Spent</th>\n",
       "      <th>Number of Purchases</th>\n",
       "      <th>Avg Spent per Purchase</th>\n",
       "    </tr>\n",
       "  </thead>\n",
       "  <tbody>\n",
       "    <tr>\n",
       "      <th>0</th>\n",
       "      <td>Lisosia93</td>\n",
       "      <td>$18.96</td>\n",
       "      <td>5</td>\n",
       "      <td>$3.79</td>\n",
       "    </tr>\n",
       "    <tr>\n",
       "      <th>1</th>\n",
       "      <td>Idastidru52</td>\n",
       "      <td>$15.45</td>\n",
       "      <td>4</td>\n",
       "      <td>$3.86</td>\n",
       "    </tr>\n",
       "    <tr>\n",
       "      <th>2</th>\n",
       "      <td>Chamjask73</td>\n",
       "      <td>$13.83</td>\n",
       "      <td>3</td>\n",
       "      <td>$4.61</td>\n",
       "    </tr>\n",
       "    <tr>\n",
       "      <th>3</th>\n",
       "      <td>Iral74</td>\n",
       "      <td>$13.62</td>\n",
       "      <td>4</td>\n",
       "      <td>$3.40</td>\n",
       "    </tr>\n",
       "    <tr>\n",
       "      <th>4</th>\n",
       "      <td>Iskadarya95</td>\n",
       "      <td>$13.10</td>\n",
       "      <td>3</td>\n",
       "      <td>$4.37</td>\n",
       "    </tr>\n",
       "  </tbody>\n",
       "</table>\n",
       "</div>"
      ],
      "text/plain": [
       "  Top Spenders Amount Spent  Number of Purchases Avg Spent per Purchase\n",
       "0    Lisosia93       $18.96                    5                  $3.79\n",
       "1  Idastidru52       $15.45                    4                  $3.86\n",
       "2   Chamjask73       $13.83                    3                  $4.61\n",
       "3       Iral74       $13.62                    4                  $3.40\n",
       "4  Iskadarya95       $13.10                    3                  $4.37"
      ]
     },
     "execution_count": 33,
     "metadata": {},
     "output_type": "execute_result"
    }
   ],
   "source": [
    "buyers_df = {\n",
    "    \"Top Spenders\" : top_buyers,\n",
    "    \"Amount Spent\" : top_buyers_spent_dollars,\n",
    "    \"Number of Purchases\" : top_buyers_purchases,\n",
    "    \"Avg Spent per Purchase\" : top_avg_price\n",
    "}\n",
    "pd.DataFrame(buyers_df)"
   ]
  },
  {
   "cell_type": "code",
   "execution_count": 34,
   "metadata": {},
   "outputs": [
    {
     "data": {
      "text/plain": [
       "2379.77"
      ]
     },
     "execution_count": 34,
     "metadata": {},
     "output_type": "execute_result"
    }
   ],
   "source": [
    "total_revenue"
   ]
  },
  {
   "cell_type": "code",
   "execution_count": 35,
   "metadata": {},
   "outputs": [],
   "source": [
    "avg_purchase_price = total_revenue / num_purchases"
   ]
  },
  {
   "cell_type": "code",
   "execution_count": 36,
   "metadata": {},
   "outputs": [
    {
     "data": {
      "text/plain": [
       "780"
      ]
     },
     "execution_count": 36,
     "metadata": {},
     "output_type": "execute_result"
    }
   ],
   "source": [
    "total_users = gender_counts.sum()\n",
    "total_users"
   ]
  },
  {
   "cell_type": "code",
   "execution_count": 37,
   "metadata": {},
   "outputs": [],
   "source": [
    "total_men = gender_counts[\"Male\"]\n",
    "total_women = gender_counts[\"Female\"]\n",
    "total_other = gender_counts[\"Other / Non-Disclosed\"]"
   ]
  },
  {
   "cell_type": "code",
   "execution_count": 38,
   "metadata": {},
   "outputs": [],
   "source": [
    "percent_purchases_male = '{:.2%}'.format(total_men /total_users)\n",
    "percent_purchases_female = '{:.2%}'.format(total_women / total_users)\n",
    "percent_purchases_other = '{:.2%}'.format(total_other /total_users)"
   ]
  },
  {
   "cell_type": "code",
   "execution_count": 39,
   "metadata": {},
   "outputs": [
    {
     "data": {
      "text/plain": [
       "'14.49%'"
      ]
     },
     "execution_count": 39,
     "metadata": {},
     "output_type": "execute_result"
    }
   ],
   "source": [
    "percent_purchases_female"
   ]
  },
  {
   "cell_type": "code",
   "execution_count": 40,
   "metadata": {},
   "outputs": [
    {
     "data": {
      "text/plain": [
       "'1.92%'"
      ]
     },
     "execution_count": 40,
     "metadata": {},
     "output_type": "execute_result"
    }
   ],
   "source": [
    "percent_purchases_other"
   ]
  },
  {
   "cell_type": "code",
   "execution_count": 41,
   "metadata": {},
   "outputs": [],
   "source": [
    "perc_men = '{:.2%}'.format(perc_men)\n",
    "perc_men\n",
    "perc_women = '{:.2%}'.format(perc_women)\n",
    "perc_other = '{:.2%}'.format(perc_other)"
   ]
  },
  {
   "cell_type": "code",
   "execution_count": 42,
   "metadata": {},
   "outputs": [],
   "source": [
    "game_data.head()\n",
    "top_items = game_data[\"Item Name\"].value_counts()\n",
    "top_items_dict = dict(top_items)"
   ]
  },
  {
   "cell_type": "code",
   "execution_count": 43,
   "metadata": {},
   "outputs": [
    {
     "ename": "NameError",
     "evalue": "name 'top_five_items' is not defined",
     "output_type": "error",
     "traceback": [
      "\u001b[0;31m---------------------------------------------------------------------------\u001b[0m",
      "\u001b[0;31mNameError\u001b[0m                                 Traceback (most recent call last)",
      "\u001b[0;32m<ipython-input-43-f506eb62f59a>\u001b[0m in \u001b[0;36m<module>\u001b[0;34m()\u001b[0m\n\u001b[0;32m----> 1\u001b[0;31m \u001b[0mtop_five_items\u001b[0m\u001b[0;34m\u001b[0m\u001b[0m\n\u001b[0m",
      "\u001b[0;31mNameError\u001b[0m: name 'top_five_items' is not defined"
     ]
    }
   ],
   "source": [
    "top_five_items"
   ]
  },
  {
   "cell_type": "code",
   "execution_count": 44,
   "metadata": {},
   "outputs": [],
   "source": [
    "top_game_items = game_data.groupby([\"Item Name\"])\n",
    "items_sorted = top_game_items.sum().sort_values(\"Price\", ascending = False)\n",
    "top_five_items = list(items_sorted.index.values[0:5])\n",
    "top_five_items\n",
    "top_items_spent = list(items_sorted[\"Price\"][0:5])\n"
   ]
  },
  {
   "cell_type": "code",
   "execution_count": 45,
   "metadata": {},
   "outputs": [
    {
     "data": {
      "text/plain": [
       "['$59.99', '$50.76', '$44.10', '$41.22', '$34.80']"
      ]
     },
     "execution_count": 45,
     "metadata": {},
     "output_type": "execute_result"
    }
   ],
   "source": [
    "item_spent = []\n",
    "for item in top_items_spent:\n",
    "    item_spent.append('${:,.2f}'.format(item))\n",
    "item_spent"
   ]
  },
  {
   "cell_type": "code",
   "execution_count": 46,
   "metadata": {},
   "outputs": [
    {
     "ename": "NameError",
     "evalue": "name 'item_count' is not defined",
     "output_type": "error",
     "traceback": [
      "\u001b[0;31m---------------------------------------------------------------------------\u001b[0m",
      "\u001b[0;31mNameError\u001b[0m                                 Traceback (most recent call last)",
      "\u001b[0;32m<ipython-input-46-e00a640ee00b>\u001b[0m in \u001b[0;36m<module>\u001b[0;34m()\u001b[0m\n\u001b[1;32m      2\u001b[0m \u001b[0mprof_item_id\u001b[0m \u001b[0;34m=\u001b[0m \u001b[0;34m[\u001b[0m\u001b[0;34m]\u001b[0m\u001b[0;34m\u001b[0m\u001b[0m\n\u001b[1;32m      3\u001b[0m \u001b[0;32mfor\u001b[0m \u001b[0mi\u001b[0m \u001b[0;32min\u001b[0m \u001b[0mrange\u001b[0m \u001b[0;34m(\u001b[0m\u001b[0;36m0\u001b[0m\u001b[0;34m,\u001b[0m \u001b[0mlen\u001b[0m\u001b[0;34m(\u001b[0m\u001b[0mitem_id\u001b[0m\u001b[0;34m)\u001b[0m\u001b[0;34m)\u001b[0m\u001b[0;34m:\u001b[0m\u001b[0;34m\u001b[0m\u001b[0m\n\u001b[0;32m----> 4\u001b[0;31m     \u001b[0mprof_item_id\u001b[0m\u001b[0;34m.\u001b[0m\u001b[0mappend\u001b[0m\u001b[0;34m(\u001b[0m\u001b[0mitem_id\u001b[0m\u001b[0;34m[\u001b[0m\u001b[0mi\u001b[0m\u001b[0;34m]\u001b[0m \u001b[0;34m//\u001b[0m \u001b[0mitem_count\u001b[0m\u001b[0;34m[\u001b[0m\u001b[0mi\u001b[0m\u001b[0;34m]\u001b[0m\u001b[0;34m)\u001b[0m\u001b[0;34m\u001b[0m\u001b[0m\n\u001b[0m\u001b[1;32m      5\u001b[0m \u001b[0mprof_item_id\u001b[0m\u001b[0;34m\u001b[0m\u001b[0m\n",
      "\u001b[0;31mNameError\u001b[0m: name 'item_count' is not defined"
     ]
    }
   ],
   "source": [
    "item_id = items_sorted[\"Item ID\"][0:5]\n",
    "prof_item_id = []\n",
    "for i in range (0, len(item_id)):\n",
    "    prof_item_id.append(item_id[i] // item_count[i])\n",
    "prof_item_id"
   ]
  },
  {
   "cell_type": "code",
   "execution_count": 47,
   "metadata": {},
   "outputs": [],
   "source": [
    "item_count = []\n",
    "for item in top_five_items:\n",
    "    item_count.append(top_items_dict[item])"
   ]
  },
  {
   "cell_type": "code",
   "execution_count": 48,
   "metadata": {},
   "outputs": [
    {
     "data": {
      "text/plain": [
       "Item Name\n",
       "Final Critic                                    1241\n",
       "Oathbreaker, Last Hope of the Breaking Storm    2136\n",
       "Nirvana                                          738\n",
       "Fiery Glass Crusader                            1305\n",
       "Singed Scalpel                                   824\n",
       "Name: Item ID, dtype: int64"
      ]
     },
     "execution_count": 48,
     "metadata": {},
     "output_type": "execute_result"
    }
   ],
   "source": [
    "item_id"
   ]
  },
  {
   "cell_type": "code",
   "execution_count": 49,
   "metadata": {},
   "outputs": [
    {
     "ename": "NameError",
     "evalue": "name 'final_prices' is not defined",
     "output_type": "error",
     "traceback": [
      "\u001b[0;31m---------------------------------------------------------------------------\u001b[0m",
      "\u001b[0;31mNameError\u001b[0m                                 Traceback (most recent call last)",
      "\u001b[0;32m<ipython-input-49-7358896afe4c>\u001b[0m in \u001b[0;36m<module>\u001b[0;34m()\u001b[0m\n\u001b[1;32m      3\u001b[0m     \u001b[0;34m\"Purchase Count\"\u001b[0m \u001b[0;34m:\u001b[0m \u001b[0mitem_count\u001b[0m\u001b[0;34m,\u001b[0m\u001b[0;34m\u001b[0m\u001b[0m\n\u001b[1;32m      4\u001b[0m     \u001b[0;34m\"Purchase Total\"\u001b[0m \u001b[0;34m:\u001b[0m \u001b[0mitem_spent\u001b[0m\u001b[0;34m,\u001b[0m\u001b[0;34m\u001b[0m\u001b[0m\n\u001b[0;32m----> 5\u001b[0;31m     \u001b[0;34m\"Price\"\u001b[0m \u001b[0;34m:\u001b[0m \u001b[0mfinal_prices\u001b[0m\u001b[0;34m,\u001b[0m\u001b[0;34m\u001b[0m\u001b[0m\n\u001b[0m\u001b[1;32m      6\u001b[0m     \u001b[0;34m\"Item ID\"\u001b[0m \u001b[0;34m:\u001b[0m \u001b[0mprof_item_id\u001b[0m\u001b[0;34m\u001b[0m\u001b[0m\n\u001b[1;32m      7\u001b[0m }\n",
      "\u001b[0;31mNameError\u001b[0m: name 'final_prices' is not defined"
     ]
    }
   ],
   "source": [
    "prof_items = {\n",
    "    \"Item\" : top_five_items,\n",
    "    \"Purchase Count\" : item_count,\n",
    "    \"Purchase Total\" : item_spent,\n",
    "    \"Price\" : final_prices,\n",
    "    \"Item ID\" : prof_item_id\n",
    "}\n",
    "profitable_items = pd.DataFrame(prof_items)"
   ]
  },
  {
   "cell_type": "code",
   "execution_count": null,
   "metadata": {},
   "outputs": [],
   "source": []
  },
  {
   "cell_type": "code",
   "execution_count": 50,
   "metadata": {},
   "outputs": [
    {
     "ename": "NameError",
     "evalue": "name 'profitable_items' is not defined",
     "output_type": "error",
     "traceback": [
      "\u001b[0;31m---------------------------------------------------------------------------\u001b[0m",
      "\u001b[0;31mNameError\u001b[0m                                 Traceback (most recent call last)",
      "\u001b[0;32m<ipython-input-50-05958e42d75a>\u001b[0m in \u001b[0;36m<module>\u001b[0;34m()\u001b[0m\n\u001b[0;32m----> 1\u001b[0;31m \u001b[0mprofitable_items\u001b[0m\u001b[0;34m\u001b[0m\u001b[0m\n\u001b[0m",
      "\u001b[0;31mNameError\u001b[0m: name 'profitable_items' is not defined"
     ]
    }
   ],
   "source": [
    "profitable_items"
   ]
  },
  {
   "cell_type": "code",
   "execution_count": 51,
   "metadata": {},
   "outputs": [],
   "source": [
    "item_prices = []"
   ]
  },
  {
   "cell_type": "code",
   "execution_count": 52,
   "metadata": {},
   "outputs": [
    {
     "data": {
      "text/plain": [
       "[4.614615384615385, 4.2299999999999995, 4.9, 4.58, 4.35]"
      ]
     },
     "execution_count": 52,
     "metadata": {},
     "output_type": "execute_result"
    }
   ],
   "source": [
    "for i in range(0,5):\n",
    "    item_prices.append(float(item_spent[i][1:]) / item_count[i])\n",
    "item_prices"
   ]
  },
  {
   "cell_type": "code",
   "execution_count": 53,
   "metadata": {},
   "outputs": [],
   "source": [
    "final_prices = []\n",
    "for item in item_prices:\n",
    "    final_prices.append('${:,.2f}'.format(item))"
   ]
  },
  {
   "cell_type": "code",
   "execution_count": 54,
   "metadata": {},
   "outputs": [],
   "source": [
    "pop_items = top_game_items.count()\n",
    "pop_items_sort = pop_items.sort_values(\"Gender\", ascending=False)"
   ]
  },
  {
   "cell_type": "code",
   "execution_count": null,
   "metadata": {},
   "outputs": [],
   "source": []
  },
  {
   "cell_type": "code",
   "execution_count": 55,
   "metadata": {},
   "outputs": [],
   "source": [
    "pop_5_items = list(pop_items_sort.index.values[0:5])"
   ]
  },
  {
   "cell_type": "code",
   "execution_count": 56,
   "metadata": {},
   "outputs": [
    {
     "data": {
      "text/plain": [
       "['Final Critic',\n",
       " 'Oathbreaker, Last Hope of the Breaking Storm',\n",
       " 'Persuasion',\n",
       " 'Nirvana',\n",
       " 'Extraction, Quickblade Of Trembling Hands']"
      ]
     },
     "execution_count": 56,
     "metadata": {},
     "output_type": "execute_result"
    }
   ],
   "source": [
    "pop_5_items"
   ]
  },
  {
   "cell_type": "code",
   "execution_count": 57,
   "metadata": {},
   "outputs": [],
   "source": [
    "pop_totals = list(pop_items_sort[\"SN\"][0:5])"
   ]
  },
  {
   "cell_type": "code",
   "execution_count": 58,
   "metadata": {},
   "outputs": [
    {
     "ename": "NameError",
     "evalue": "name 'pop_price_dollars' is not defined",
     "output_type": "error",
     "traceback": [
      "\u001b[0;31m---------------------------------------------------------------------------\u001b[0m",
      "\u001b[0;31mNameError\u001b[0m                                 Traceback (most recent call last)",
      "\u001b[0;32m<ipython-input-58-bda2eac9e1a9>\u001b[0m in \u001b[0;36m<module>\u001b[0;34m()\u001b[0m\n\u001b[1;32m      2\u001b[0m     \u001b[0;34m\"Item\"\u001b[0m \u001b[0;34m:\u001b[0m \u001b[0mpop_5_items\u001b[0m\u001b[0;34m,\u001b[0m\u001b[0;34m\u001b[0m\u001b[0m\n\u001b[1;32m      3\u001b[0m     \u001b[0;34m\"Number of Purchases\"\u001b[0m \u001b[0;34m:\u001b[0m \u001b[0mpop_totals\u001b[0m\u001b[0;34m,\u001b[0m\u001b[0;34m\u001b[0m\u001b[0m\n\u001b[0;32m----> 4\u001b[0;31m     \u001b[0;34m\"Price\"\u001b[0m \u001b[0;34m:\u001b[0m \u001b[0mpop_price_dollars\u001b[0m\u001b[0;34m,\u001b[0m\u001b[0;34m\u001b[0m\u001b[0m\n\u001b[0m\u001b[1;32m      5\u001b[0m     \u001b[0;34m\"Total Spent\"\u001b[0m \u001b[0;34m:\u001b[0m \u001b[0mpop_spent_dollars\u001b[0m\u001b[0;34m,\u001b[0m\u001b[0;34m\u001b[0m\u001b[0m\n\u001b[1;32m      6\u001b[0m     \u001b[0;34m\"Item ID\"\u001b[0m \u001b[0;34m:\u001b[0m \u001b[0mpop_id\u001b[0m\u001b[0;34m\u001b[0m\u001b[0m\n",
      "\u001b[0;31mNameError\u001b[0m: name 'pop_price_dollars' is not defined"
     ]
    }
   ],
   "source": [
    "pop_df = {\n",
    "    \"Item\" : pop_5_items,\n",
    "    \"Number of Purchases\" : pop_totals,\n",
    "    \"Price\" : pop_price_dollars,\n",
    "    \"Total Spent\" : pop_spent_dollars,\n",
    "    \"Item ID\" : pop_id\n",
    "}"
   ]
  },
  {
   "cell_type": "code",
   "execution_count": 59,
   "metadata": {},
   "outputs": [
    {
     "ename": "NameError",
     "evalue": "name 'pop_df' is not defined",
     "output_type": "error",
     "traceback": [
      "\u001b[0;31m---------------------------------------------------------------------------\u001b[0m",
      "\u001b[0;31mNameError\u001b[0m                                 Traceback (most recent call last)",
      "\u001b[0;32m<ipython-input-59-024e8e53da1d>\u001b[0m in \u001b[0;36m<module>\u001b[0;34m()\u001b[0m\n\u001b[0;32m----> 1\u001b[0;31m \u001b[0mpop_items_df\u001b[0m \u001b[0;34m=\u001b[0m \u001b[0mpd\u001b[0m\u001b[0;34m.\u001b[0m\u001b[0mDataFrame\u001b[0m\u001b[0;34m(\u001b[0m\u001b[0mpop_df\u001b[0m\u001b[0;34m)\u001b[0m\u001b[0;34m\u001b[0m\u001b[0m\n\u001b[0m\u001b[1;32m      2\u001b[0m \u001b[0mpop_items_df\u001b[0m\u001b[0;34m\u001b[0m\u001b[0m\n",
      "\u001b[0;31mNameError\u001b[0m: name 'pop_df' is not defined"
     ]
    }
   ],
   "source": [
    "pop_items_df = pd.DataFrame(pop_df)\n",
    "pop_items_df"
   ]
  },
  {
   "cell_type": "code",
   "execution_count": 60,
   "metadata": {},
   "outputs": [
    {
     "data": {
      "text/plain": [
       "[92, 178, 141, 82, 108]"
      ]
     },
     "execution_count": 60,
     "metadata": {},
     "output_type": "execute_result"
    }
   ],
   "source": [
    "pop_id=[]\n",
    "for i in range (0, len(pop_5_items)):\n",
    "    pop_id.append(list(game_df.loc[game_df[\"Item Name\"] == pop_5_items[i] ,\"Item ID\"])[0])\n",
    "pop_id"
   ]
  },
  {
   "cell_type": "code",
   "execution_count": 61,
   "metadata": {},
   "outputs": [
    {
     "data": {
      "text/plain": [
       "[63.44, 50.760000000000005, 28.71, 44.1, 31.77]"
      ]
     },
     "execution_count": 61,
     "metadata": {},
     "output_type": "execute_result"
    }
   ],
   "source": [
    "price_id=[]\n",
    "for i in range (0, len(pop_5_items)):\n",
    "    price_id.append(list(game_df.loc[game_df[\"Item Name\"] == pop_5_items[i] ,\"Price\"])[0])\n",
    "price_id\n",
    "pop_spent = []\n",
    "for i in range (0, len(price_id)):\n",
    "    pop_spent.append(price_id[i] * pop_totals[i])\n",
    "pop_spent"
   ]
  },
  {
   "cell_type": "code",
   "execution_count": 62,
   "metadata": {},
   "outputs": [],
   "source": [
    "pop_spent_dollars = []\n",
    "for money in pop_spent:\n",
    "    pop_spent_dollars.append('${:,.2f}'.format(money))"
   ]
  },
  {
   "cell_type": "code",
   "execution_count": 63,
   "metadata": {},
   "outputs": [
    {
     "data": {
      "text/plain": [
       "['$63.44', '$50.76', '$28.71', '$44.10', '$31.77']"
      ]
     },
     "execution_count": 63,
     "metadata": {},
     "output_type": "execute_result"
    }
   ],
   "source": [
    "pop_spent_dollars"
   ]
  },
  {
   "cell_type": "code",
   "execution_count": 64,
   "metadata": {},
   "outputs": [],
   "source": [
    "pop_price_dollars = []\n",
    "for money in price_id:\n",
    "    pop_price_dollars.append('${:,.2f}'.format(money))"
   ]
  },
  {
   "cell_type": "code",
   "execution_count": 65,
   "metadata": {},
   "outputs": [
    {
     "data": {
      "text/plain": [
       "['$4.88', '$4.23', '$3.19', '$4.90', '$3.53']"
      ]
     },
     "execution_count": 65,
     "metadata": {},
     "output_type": "execute_result"
    }
   ],
   "source": [
    "pop_price_dollars"
   ]
  },
  {
   "cell_type": "code",
   "execution_count": null,
   "metadata": {},
   "outputs": [],
   "source": []
  },
  {
   "cell_type": "code",
   "execution_count": null,
   "metadata": {},
   "outputs": [],
   "source": []
  }
 ],
 "metadata": {
  "kernelspec": {
   "display_name": "Python 3",
   "language": "python",
   "name": "python3"
  },
  "language_info": {
   "codemirror_mode": {
    "name": "ipython",
    "version": 3
   },
   "file_extension": ".py",
   "mimetype": "text/x-python",
   "name": "python",
   "nbconvert_exporter": "python",
   "pygments_lexer": "ipython3",
   "version": "3.7.0"
  }
 },
 "nbformat": 4,
 "nbformat_minor": 2
}
